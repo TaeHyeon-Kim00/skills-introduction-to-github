{
  "cells": [
    {
      "cell_type": "markdown",
      "metadata": {
        "id": "Iudis_i3YxhP"
      },
      "source": [
        "### Solution"
      ]
    },
    {
      "cell_type": "markdown",
      "metadata": {
        "id": "gOs0LE1_YxhP"
      },
      "source": [
        "#### => Create a Developer subclass which inherits from the Employee parent class"
      ]
    },
    {
      "cell_type": "code",
      "execution_count": null,
      "metadata": {
        "id": "dFnshaJgYxhP"
      },
      "outputs": [],
      "source": [
        "from typing import List"
      ]
    },
    {
      "cell_type": "code",
      "execution_count": null,
      "metadata": {
        "id": "8cqRUQ9LYxhQ"
      },
      "outputs": [],
      "source": [
        "# Employee class\n",
        "class Employee:\n",
        "\n",
        "    raise_amt = 1.04\n",
        "\n",
        "    def __init__(self, first: str, last:str, pay:int):\n",
        "        self.first = first\n",
        "        self.last = last\n",
        "        self.pay = pay\n",
        "        self.email = first + '.' + last + '@company.com'\n",
        "\n",
        "    def __repr__(self)-> str:\n",
        "        return f\"{self.__class__.__name__}({self.first}, {self.last}, {self.pay})\"\n",
        "\n",
        "    def __str__(self)-> str:\n",
        "        return f\"{self.__class__.__name__} {self.first} {self.last} makes €{self.pay}\"\n",
        "\n",
        "    @property\n",
        "    def fullname(self)-> str:\n",
        "        return f\"{self.first} {self.last}\"\n",
        "\n",
        "    def apply_raise(self)-> float:\n",
        "        return self.pay * self.raise_amt\n",
        "\n",
        "    @classmethod\n",
        "    def set_raise_amt(cls, amount):\n",
        "        cls.raise_amt = amount\n",
        "\n",
        "    @staticmethod\n",
        "    def is_weekday(day):\n",
        "        if day.weekday() == 5 or day.weekday() == 6:\n",
        "            return False\n",
        "        return True"
      ]
    },
    {
      "cell_type": "code",
      "execution_count": null,
      "metadata": {
        "id": "yJUUw3PgYxhQ"
      },
      "outputs": [],
      "source": [
        "# Manager Class inherits from Employee\n",
        "class Manager(Employee):\n",
        "    raise_amt = 1.11\n",
        "\n",
        "    def __init__(self, first:str, last:str, pay:int, dept:str, employees:List[str]=None):\n",
        "        super().__init__(first, last, pay) #super = Employee\n",
        "        self.dept = dept\n",
        "        self.employees = list(employees) if employees else []\n",
        "\n",
        "    def add_emps(self, emp:str)-> List[str]:\n",
        "        if emp not in self.employees:\n",
        "            self.employees.append(emp)\n",
        "        return self.employees\n",
        "\n",
        "    def remove_emps(self, emp:str)-> List[str]:\n",
        "        if emp in self.employees:\n",
        "            self.employees.remove(emp)\n",
        "        return self.employees\n",
        "\n",
        "    def print_emps(self)-> str:\n",
        "        for emp in self.employees:\n",
        "            print('--->', emp)"
      ]
    },
    {
      "cell_type": "code",
      "execution_count": null,
      "metadata": {
        "id": "7G5KdOUJYxhQ"
      },
      "outputs": [],
      "source": [
        "# Developer Class inherits from Employee\n",
        "class Developer(Employee):\n",
        "    raise_amt = 1.08\n",
        "\n",
        "    def __init__(self, first:str, last:str, pay:int, dept:str,\n",
        "                 manager:str, title:str, level:str = \"L1\", prog_lang: List[str]=None):\n",
        "        super().__init__(first, last, pay)\n",
        "        self.dept = dept\n",
        "        self.manager = manager\n",
        "        self.title = title\n",
        "        self.level = level\n",
        "        self.prog_lang = list(prog_lang) if prog_lang else []\n",
        "\n",
        "    def __str__(self):\n",
        "        return f\"{self.level} {super().__str__()}, is a {self.title} in the {self.dept} department, and is managed by {self.manager}\"\n",
        "\n",
        "    def add_prog_lang(self, lang: str) -> List[str]:\n",
        "        if lang not in self.prog_lang:\n",
        "            self.prog_lang.append(lang)\n",
        "        return self.prog_lang\n",
        "\n",
        "    def which_laptop(self, lang) -> str:\n",
        "        if lang in self.prog_lang:\n",
        "            print(\"Macbook Pro\")\n",
        "        else:\n",
        "            print(\"Lenovo\")"
      ]
    },
    {
      "cell_type": "code",
      "execution_count": null,
      "metadata": {
        "id": "ZA5XDxbgYxhQ"
      },
      "outputs": [],
      "source": [
        "langs = [\"C++\", \"Python\"]\n",
        "dev1 = Developer(\"Susan\", \"James\", 95000, \"marketing\", \"Alyona\", \"Research Engineer\", prog_lang=langs)\n",
        "dev1.__str__()\n",
        "d.fullname"
      ]
    },
    {
      "cell_type": "code",
      "execution_count": null,
      "metadata": {
        "scrolled": true,
        "id": "vUQcXQgVYxhQ"
      },
      "outputs": [],
      "source": [
        "dev1.which_laptop(\"Python\")"
      ]
    }
  ],
  "metadata": {
    "kernelspec": {
      "display_name": "Python 3",
      "language": "python",
      "name": "python3"
    },
    "language_info": {
      "codemirror_mode": {
        "name": "ipython",
        "version": 3
      },
      "file_extension": ".py",
      "mimetype": "text/x-python",
      "name": "python",
      "nbconvert_exporter": "python",
      "pygments_lexer": "ipython3",
      "version": "3.7.4"
    },
    "colab": {
      "provenance": []
    }
  },
  "nbformat": 4,
  "nbformat_minor": 0
}